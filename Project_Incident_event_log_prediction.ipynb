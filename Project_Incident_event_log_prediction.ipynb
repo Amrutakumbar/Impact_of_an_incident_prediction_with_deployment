{
 "cells": [
  {
   "cell_type": "markdown",
   "metadata": {},
   "source": [
    "# Import the libraries"
   ]
  },
  {
   "cell_type": "code",
   "execution_count": 1,
   "metadata": {},
   "outputs": [],
   "source": [
    "import pandas as pd\n",
    "import matplotlib. pyplot as plt\n",
    "%matplotlib inline\n",
    "from datetime import datetime\n",
    "import numpy as np"
   ]
  },
  {
   "cell_type": "markdown",
   "metadata": {},
   "source": [
    "# Load the dataset"
   ]
  },
  {
   "cell_type": "code",
   "execution_count": 2,
   "metadata": {},
   "outputs": [
    {
     "data": {
      "text/html": [
       "<div>\n",
       "<style scoped>\n",
       "    .dataframe tbody tr th:only-of-type {\n",
       "        vertical-align: middle;\n",
       "    }\n",
       "\n",
       "    .dataframe tbody tr th {\n",
       "        vertical-align: top;\n",
       "    }\n",
       "\n",
       "    .dataframe thead th {\n",
       "        text-align: right;\n",
       "    }\n",
       "</style>\n",
       "<table border=\"1\" class=\"dataframe\">\n",
       "  <thead>\n",
       "    <tr style=\"text-align: right;\">\n",
       "      <th></th>\n",
       "      <th>number</th>\n",
       "      <th>incident_state</th>\n",
       "      <th>active</th>\n",
       "      <th>reassignment_count</th>\n",
       "      <th>reopen_count</th>\n",
       "      <th>sys_mod_count</th>\n",
       "      <th>made_sla</th>\n",
       "      <th>caller_id</th>\n",
       "      <th>opened_by</th>\n",
       "      <th>opened_at</th>\n",
       "      <th>...</th>\n",
       "      <th>u_priority_confirmation</th>\n",
       "      <th>notify</th>\n",
       "      <th>problem_id</th>\n",
       "      <th>rfc</th>\n",
       "      <th>vendor</th>\n",
       "      <th>caused_by</th>\n",
       "      <th>closed_code</th>\n",
       "      <th>resolved_by</th>\n",
       "      <th>resolved_at</th>\n",
       "      <th>closed_at</th>\n",
       "    </tr>\n",
       "  </thead>\n",
       "  <tbody>\n",
       "    <tr>\n",
       "      <th>0</th>\n",
       "      <td>INC0000045</td>\n",
       "      <td>New</td>\n",
       "      <td>True</td>\n",
       "      <td>0</td>\n",
       "      <td>0</td>\n",
       "      <td>0</td>\n",
       "      <td>True</td>\n",
       "      <td>Caller 2403</td>\n",
       "      <td>Opened by  8</td>\n",
       "      <td>29-02-2016 01:16</td>\n",
       "      <td>...</td>\n",
       "      <td>False</td>\n",
       "      <td>Do Not Notify</td>\n",
       "      <td>?</td>\n",
       "      <td>?</td>\n",
       "      <td>?</td>\n",
       "      <td>?</td>\n",
       "      <td>code 5</td>\n",
       "      <td>Resolved by 149</td>\n",
       "      <td>29-02-2016 11:29</td>\n",
       "      <td>05-03-2016 12:00</td>\n",
       "    </tr>\n",
       "    <tr>\n",
       "      <th>1</th>\n",
       "      <td>INC0000045</td>\n",
       "      <td>Resolved</td>\n",
       "      <td>True</td>\n",
       "      <td>0</td>\n",
       "      <td>0</td>\n",
       "      <td>2</td>\n",
       "      <td>True</td>\n",
       "      <td>Caller 2403</td>\n",
       "      <td>Opened by  8</td>\n",
       "      <td>29-02-2016 01:16</td>\n",
       "      <td>...</td>\n",
       "      <td>False</td>\n",
       "      <td>Do Not Notify</td>\n",
       "      <td>?</td>\n",
       "      <td>?</td>\n",
       "      <td>?</td>\n",
       "      <td>?</td>\n",
       "      <td>code 5</td>\n",
       "      <td>Resolved by 149</td>\n",
       "      <td>29-02-2016 11:29</td>\n",
       "      <td>05-03-2016 12:00</td>\n",
       "    </tr>\n",
       "    <tr>\n",
       "      <th>2</th>\n",
       "      <td>INC0000045</td>\n",
       "      <td>Resolved</td>\n",
       "      <td>True</td>\n",
       "      <td>0</td>\n",
       "      <td>0</td>\n",
       "      <td>3</td>\n",
       "      <td>True</td>\n",
       "      <td>Caller 2403</td>\n",
       "      <td>Opened by  8</td>\n",
       "      <td>29-02-2016 01:16</td>\n",
       "      <td>...</td>\n",
       "      <td>False</td>\n",
       "      <td>Do Not Notify</td>\n",
       "      <td>?</td>\n",
       "      <td>?</td>\n",
       "      <td>?</td>\n",
       "      <td>?</td>\n",
       "      <td>code 5</td>\n",
       "      <td>Resolved by 149</td>\n",
       "      <td>29-02-2016 11:29</td>\n",
       "      <td>05-03-2016 12:00</td>\n",
       "    </tr>\n",
       "    <tr>\n",
       "      <th>3</th>\n",
       "      <td>INC0000045</td>\n",
       "      <td>Closed</td>\n",
       "      <td>False</td>\n",
       "      <td>0</td>\n",
       "      <td>0</td>\n",
       "      <td>4</td>\n",
       "      <td>True</td>\n",
       "      <td>Caller 2403</td>\n",
       "      <td>Opened by  8</td>\n",
       "      <td>29-02-2016 01:16</td>\n",
       "      <td>...</td>\n",
       "      <td>False</td>\n",
       "      <td>Do Not Notify</td>\n",
       "      <td>?</td>\n",
       "      <td>?</td>\n",
       "      <td>?</td>\n",
       "      <td>?</td>\n",
       "      <td>code 5</td>\n",
       "      <td>Resolved by 149</td>\n",
       "      <td>29-02-2016 11:29</td>\n",
       "      <td>05-03-2016 12:00</td>\n",
       "    </tr>\n",
       "    <tr>\n",
       "      <th>4</th>\n",
       "      <td>INC0000047</td>\n",
       "      <td>New</td>\n",
       "      <td>True</td>\n",
       "      <td>0</td>\n",
       "      <td>0</td>\n",
       "      <td>0</td>\n",
       "      <td>True</td>\n",
       "      <td>Caller 2403</td>\n",
       "      <td>Opened by  397</td>\n",
       "      <td>29-02-2016 04:40</td>\n",
       "      <td>...</td>\n",
       "      <td>False</td>\n",
       "      <td>Do Not Notify</td>\n",
       "      <td>?</td>\n",
       "      <td>?</td>\n",
       "      <td>?</td>\n",
       "      <td>?</td>\n",
       "      <td>code 5</td>\n",
       "      <td>Resolved by 81</td>\n",
       "      <td>01-03-2016 09:52</td>\n",
       "      <td>06-03-2016 10:00</td>\n",
       "    </tr>\n",
       "  </tbody>\n",
       "</table>\n",
       "<p>5 rows × 36 columns</p>\n",
       "</div>"
      ],
      "text/plain": [
       "       number incident_state  active  reassignment_count  reopen_count  \\\n",
       "0  INC0000045            New    True                   0             0   \n",
       "1  INC0000045       Resolved    True                   0             0   \n",
       "2  INC0000045       Resolved    True                   0             0   \n",
       "3  INC0000045         Closed   False                   0             0   \n",
       "4  INC0000047            New    True                   0             0   \n",
       "\n",
       "   sys_mod_count  made_sla    caller_id       opened_by         opened_at  \\\n",
       "0              0      True  Caller 2403    Opened by  8  29-02-2016 01:16   \n",
       "1              2      True  Caller 2403    Opened by  8  29-02-2016 01:16   \n",
       "2              3      True  Caller 2403    Opened by  8  29-02-2016 01:16   \n",
       "3              4      True  Caller 2403    Opened by  8  29-02-2016 01:16   \n",
       "4              0      True  Caller 2403  Opened by  397  29-02-2016 04:40   \n",
       "\n",
       "   ... u_priority_confirmation         notify problem_id rfc vendor caused_by  \\\n",
       "0  ...                   False  Do Not Notify          ?   ?      ?         ?   \n",
       "1  ...                   False  Do Not Notify          ?   ?      ?         ?   \n",
       "2  ...                   False  Do Not Notify          ?   ?      ?         ?   \n",
       "3  ...                   False  Do Not Notify          ?   ?      ?         ?   \n",
       "4  ...                   False  Do Not Notify          ?   ?      ?         ?   \n",
       "\n",
       "  closed_code      resolved_by       resolved_at         closed_at  \n",
       "0      code 5  Resolved by 149  29-02-2016 11:29  05-03-2016 12:00  \n",
       "1      code 5  Resolved by 149  29-02-2016 11:29  05-03-2016 12:00  \n",
       "2      code 5  Resolved by 149  29-02-2016 11:29  05-03-2016 12:00  \n",
       "3      code 5  Resolved by 149  29-02-2016 11:29  05-03-2016 12:00  \n",
       "4      code 5   Resolved by 81  01-03-2016 09:52  06-03-2016 10:00  \n",
       "\n",
       "[5 rows x 36 columns]"
      ]
     },
     "execution_count": 2,
     "metadata": {},
     "output_type": "execute_result"
    }
   ],
   "source": [
    "data=pd.read_csv(\"C:\\\\Users\\\\DELL\\\\Downloads\\\\Project data science excelr\\\\incident_event_log.csv\")\n",
    "data.head()"
   ]
  },
  {
   "cell_type": "code",
   "execution_count": 3,
   "metadata": {},
   "outputs": [
    {
     "name": "stdout",
     "output_type": "stream",
     "text": [
      "<class 'pandas.core.frame.DataFrame'>\n",
      "RangeIndex: 141712 entries, 0 to 141711\n",
      "Data columns (total 36 columns):\n",
      " #   Column                   Non-Null Count   Dtype \n",
      "---  ------                   --------------   ----- \n",
      " 0   number                   141712 non-null  object\n",
      " 1   incident_state           141712 non-null  object\n",
      " 2   active                   141712 non-null  bool  \n",
      " 3   reassignment_count       141712 non-null  int64 \n",
      " 4   reopen_count             141712 non-null  int64 \n",
      " 5   sys_mod_count            141712 non-null  int64 \n",
      " 6   made_sla                 141712 non-null  bool  \n",
      " 7   caller_id                141712 non-null  object\n",
      " 8   opened_by                141712 non-null  object\n",
      " 9   opened_at                141712 non-null  object\n",
      " 10  sys_created_by           141712 non-null  object\n",
      " 11  sys_created_at           141712 non-null  object\n",
      " 12  sys_updated_by           141712 non-null  object\n",
      " 13  sys_updated_at           141712 non-null  object\n",
      " 14  contact_type             141712 non-null  object\n",
      " 15  location                 141712 non-null  object\n",
      " 16  category                 141712 non-null  object\n",
      " 17  subcategory              141712 non-null  object\n",
      " 18  u_symptom                141712 non-null  object\n",
      " 19  cmdb_ci                  141712 non-null  object\n",
      " 20  impact                   141712 non-null  object\n",
      " 21  urgency                  141712 non-null  object\n",
      " 22  priority                 141712 non-null  object\n",
      " 23  assignment_group         141712 non-null  object\n",
      " 24  assigned_to              141712 non-null  object\n",
      " 25  knowledge                141712 non-null  bool  \n",
      " 26  u_priority_confirmation  141712 non-null  bool  \n",
      " 27  notify                   141712 non-null  object\n",
      " 28  problem_id               141712 non-null  object\n",
      " 29  rfc                      141712 non-null  object\n",
      " 30  vendor                   141712 non-null  object\n",
      " 31  caused_by                141712 non-null  object\n",
      " 32  closed_code              141712 non-null  object\n",
      " 33  resolved_by              141712 non-null  object\n",
      " 34  resolved_at              141712 non-null  object\n",
      " 35  closed_at                141712 non-null  object\n",
      "dtypes: bool(4), int64(3), object(29)\n",
      "memory usage: 35.1+ MB\n"
     ]
    }
   ],
   "source": [
    "data.info()"
   ]
  },
  {
   "cell_type": "code",
   "execution_count": 4,
   "metadata": {},
   "outputs": [],
   "source": [
    "data['number']=data['number'].astype('category')\n",
    "data['incident_state']=data['incident_state'].astype('category')\n",
    "data['caller_id']=data['caller_id'].astype('category')\n",
    "data['opened_by']=data['opened_by'].astype('category')\n",
    "data['opened_at']=data['opened_at'].astype('category')\n",
    "data['sys_created_by']=data['sys_created_by'].astype('category')\n",
    "data['sys_created_at']=data['sys_created_at'].astype('category')\n",
    "data['sys_updated_by']=data['sys_updated_by'].astype('category')\n",
    "data['sys_updated_at']=data['sys_updated_at'].astype('category')\n",
    "data['contact_type']=data['contact_type'].astype('category')\n",
    "data['location']=data['location'].astype('category')\n",
    "data['category']=data['category'].astype('category')\n",
    "data['subcategory']=data['subcategory'].astype('category')\n",
    "data['u_symptom']=data['u_symptom'].astype('category')\n",
    "data['cmdb_ci']=data['cmdb_ci'].astype('category')\n",
    "data['impact']=data['impact'].astype('category')\n",
    "data['urgency']=data['urgency'].astype('category')\n",
    "data['priority']=data['priority'].astype('category')\n",
    "data['assignment_group']=data['assignment_group'].astype('category')\n",
    "data['assigned_to']=data['assigned_to'].astype('category')\n",
    "data['notify']=data['notify'].astype('category')\n",
    "data['problem_id']=data['problem_id'].astype('category')\n",
    "data['rfc']=data['rfc'].astype('category')\n",
    "data['vendor']=data['vendor'].astype('category')\n",
    "data['caused_by']=data['caused_by'].astype('category')\n",
    "data['closed_code']=data['closed_code'].astype('category')\n",
    "data['resolved_by']=data['resolved_by'].astype('category')\n",
    "data['resolved_at']=data['resolved_at'].astype('category')\n",
    "data['closed_at']=data['closed_at'].astype('category')"
   ]
  },
  {
   "cell_type": "code",
   "execution_count": 5,
   "metadata": {},
   "outputs": [
    {
     "name": "stdout",
     "output_type": "stream",
     "text": [
      "<class 'pandas.core.frame.DataFrame'>\n",
      "RangeIndex: 141712 entries, 0 to 141711\n",
      "Data columns (total 36 columns):\n",
      " #   Column                   Non-Null Count   Dtype   \n",
      "---  ------                   --------------   -----   \n",
      " 0   number                   141712 non-null  category\n",
      " 1   incident_state           141712 non-null  category\n",
      " 2   active                   141712 non-null  bool    \n",
      " 3   reassignment_count       141712 non-null  int64   \n",
      " 4   reopen_count             141712 non-null  int64   \n",
      " 5   sys_mod_count            141712 non-null  int64   \n",
      " 6   made_sla                 141712 non-null  bool    \n",
      " 7   caller_id                141712 non-null  category\n",
      " 8   opened_by                141712 non-null  category\n",
      " 9   opened_at                141712 non-null  category\n",
      " 10  sys_created_by           141712 non-null  category\n",
      " 11  sys_created_at           141712 non-null  category\n",
      " 12  sys_updated_by           141712 non-null  category\n",
      " 13  sys_updated_at           141712 non-null  category\n",
      " 14  contact_type             141712 non-null  category\n",
      " 15  location                 141712 non-null  category\n",
      " 16  category                 141712 non-null  category\n",
      " 17  subcategory              141712 non-null  category\n",
      " 18  u_symptom                141712 non-null  category\n",
      " 19  cmdb_ci                  141712 non-null  category\n",
      " 20  impact                   141712 non-null  category\n",
      " 21  urgency                  141712 non-null  category\n",
      " 22  priority                 141712 non-null  category\n",
      " 23  assignment_group         141712 non-null  category\n",
      " 24  assigned_to              141712 non-null  category\n",
      " 25  knowledge                141712 non-null  bool    \n",
      " 26  u_priority_confirmation  141712 non-null  bool    \n",
      " 27  notify                   141712 non-null  category\n",
      " 28  problem_id               141712 non-null  category\n",
      " 29  rfc                      141712 non-null  category\n",
      " 30  vendor                   141712 non-null  category\n",
      " 31  caused_by                141712 non-null  category\n",
      " 32  closed_code              141712 non-null  category\n",
      " 33  resolved_by              141712 non-null  category\n",
      " 34  resolved_at              141712 non-null  category\n",
      " 35  closed_at                141712 non-null  category\n",
      "dtypes: bool(4), category(29), int64(3)\n",
      "memory usage: 16.4 MB\n"
     ]
    }
   ],
   "source": [
    "data.info()"
   ]
  },
  {
   "cell_type": "markdown",
   "metadata": {},
   "source": [
    "# Relation between columns and their visualisation"
   ]
  },
  {
   "cell_type": "code",
   "execution_count": 6,
   "metadata": {},
   "outputs": [
    {
     "data": {
      "text/plain": [
       "<AxesSubplot:xlabel='impact', ylabel='count'>"
      ]
     },
     "execution_count": 6,
     "metadata": {},
     "output_type": "execute_result"
    },
    {
     "data": {
      "image/png": "[encoded data removed]",
      "text/plain": [
       "<Figure size 432x288 with 1 Axes>"
      ]
     },
     "metadata": {
      "needs_background": "light"
     },
     "output_type": "display_data"
    }
   ],
   "source": [
    "import seaborn as sns\n",
    "sns.countplot(x='impact', data=data)"
   ]
  },
  {
   "cell_type": "code",
   "execution_count": 7,
   "metadata": {},
   "outputs": [
    {
     "data": {
      "text/plain": [
       "<AxesSubplot:xlabel='impact'>"
      ]
     },
     "execution_count": 7,
     "metadata": {},
     "output_type": "execute_result"
    },
    {
     "data": {
      "image/png": "[encoded data removed]",
      "text/plain": [
       "<Figure size 432x288 with 1 Axes>"
      ]
     },
     "metadata": {
      "needs_background": "light"
     },
     "output_type": "display_data"
    }
   ],
   "source": [
    "pd.crosstab(data['impact'],data['urgency'])\n",
    "\n",
    "IU=pd.crosstab(data['impact'],data['urgency'])\n",
    "IU.plot.bar(stacked=True)"
   ]
  },
  {
   "cell_type": "code",
   "execution_count": 8,
   "metadata": {},
   "outputs": [
    {
     "data": {
      "text/plain": [
       "<AxesSubplot:xlabel='impact'>"
      ]
     },
     "execution_count": 8,
     "metadata": {},
     "output_type": "execute_result"
    },
    {
     "data": {
      "image/png": "[encoded data removed]",
      "text/plain": [
       "<Figure size 432x288 with 1 Axes>"
      ]
     },
     "metadata": {
      "needs_background": "light"
     },
     "output_type": "display_data"
    }
   ],
   "source": [
    "pd.crosstab(data['impact'],data['priority'])\n",
    "\n",
    "IP=pd.crosstab(data['impact'],data['priority'])\n",
    "IP.plot.bar(stacked=True)"
   ]
  },
  {
   "cell_type": "code",
   "execution_count": 9,
   "metadata": {},
   "outputs": [
    {
     "data": {
      "text/plain": [
       "<AxesSubplot:xlabel='incident_state', ylabel='count'>"
      ]
     },
     "execution_count": 9,
     "metadata": {},
     "output_type": "execute_result"
    },
    {
     "data": {
      "image/png": "[encoded data removed]",
      "text/plain": [
       "<Figure size 432x288 with 1 Axes>"
      ]
     },
     "metadata": {
      "needs_background": "light"
     },
     "output_type": "display_data"
    }
   ],
   "source": [
    "import seaborn as sns\n",
    "sns.countplot(x='incident_state', data=data)"
   ]
  },
  {
   "cell_type": "code",
   "execution_count": 10,
   "metadata": {},
   "outputs": [
    {
     "data": {
      "text/plain": [
       "<AxesSubplot:xlabel='impact'>"
      ]
     },
     "execution_count": 10,
     "metadata": {},
     "output_type": "execute_result"
    },
    {
     "data": {
      "image/png": "[encoded data removed]",
      "text/plain": [
       "<Figure size 432x288 with 1 Axes>"
      ]
     },
     "metadata": {
      "needs_background": "light"
     },
     "output_type": "display_data"
    }
   ],
   "source": [
    "pd.crosstab(data['impact'],data['incident_state'])\n",
    "\n",
    "II=pd.crosstab(data['impact'],data['incident_state'])\n",
    "II.plot.bar(stacked=True)"
   ]
  },
  {
   "cell_type": "markdown",
   "metadata": {},
   "source": [
    "# Removal of Null values"
   ]
  },
  {
   "cell_type": "code",
   "execution_count": 11,
   "metadata": {},
   "outputs": [],
   "source": [
    "data.replace('?', np.nan, inplace=True)"
   ]
  },
  {
   "cell_type": "code",
   "execution_count": 12,
   "metadata": {},
   "outputs": [
    {
     "data": {
      "text/plain": [
       "number                          0\n",
       "incident_state                  0\n",
       "active                          0\n",
       "reassignment_count              0\n",
       "reopen_count                    0\n",
       "sys_mod_count                   0\n",
       "made_sla                        0\n",
       "caller_id                      29\n",
       "opened_by                    4835\n",
       "opened_at                       0\n",
       "sys_created_by              53076\n",
       "sys_created_at              53076\n",
       "sys_updated_by                  0\n",
       "sys_updated_at                  0\n",
       "contact_type                    0\n",
       "location                       76\n",
       "category                       78\n",
       "subcategory                   111\n",
       "u_symptom                   32964\n",
       "cmdb_ci                    141267\n",
       "impact                          0\n",
       "urgency                         0\n",
       "priority                        0\n",
       "assignment_group            14213\n",
       "assigned_to                 27496\n",
       "knowledge                       0\n",
       "u_priority_confirmation         0\n",
       "notify                          0\n",
       "problem_id                 139417\n",
       "rfc                        140721\n",
       "vendor                     141468\n",
       "caused_by                  141689\n",
       "closed_code                   714\n",
       "resolved_by                   226\n",
       "resolved_at                  3141\n",
       "closed_at                       0\n",
       "dtype: int64"
      ]
     },
     "execution_count": 12,
     "metadata": {},
     "output_type": "execute_result"
    }
   ],
   "source": [
    "data.isna().sum()"
   ]
  },
  {
   "cell_type": "code",
   "execution_count": 13,
   "metadata": {},
   "outputs": [
    {
     "data": {
      "text/plain": [
       "<AxesSubplot:>"
      ]
     },
     "execution_count": 13,
     "metadata": {},
     "output_type": "execute_result"
    },
    {
     "data": {
      "image/png": "[encoded data removed]",
      "text/plain": [
       "<Figure size 1800x720 with 3 Axes>"
      ]
     },
     "metadata": {
      "needs_background": "light"
     },
     "output_type": "display_data"
    }
   ],
   "source": [
    "import missingno as msno\n",
    "msno.bar(data)"
   ]
  },
  {
   "cell_type": "code",
   "execution_count": 14,
   "metadata": {},
   "outputs": [
    {
     "name": "stdout",
     "output_type": "stream",
     "text": [
      "PERCENTAGE OF MISSING VALUES\n"
     ]
    },
    {
     "data": {
      "text/plain": [
       "number                      0.000000\n",
       "incident_state              0.000000\n",
       "active                      0.000000\n",
       "reassignment_count          0.000000\n",
       "reopen_count                0.000000\n",
       "sys_mod_count               0.000000\n",
       "made_sla                    0.000000\n",
       "caller_id                   0.020464\n",
       "opened_by                   3.411849\n",
       "opened_at                   0.000000\n",
       "sys_created_by             37.453427\n",
       "sys_created_at             37.453427\n",
       "sys_updated_by              0.000000\n",
       "sys_updated_at              0.000000\n",
       "contact_type                0.000000\n",
       "location                    0.053630\n",
       "category                    0.055041\n",
       "subcategory                 0.078328\n",
       "u_symptom                  23.261262\n",
       "cmdb_ci                    99.685983\n",
       "impact                      0.000000\n",
       "urgency                     0.000000\n",
       "priority                    0.000000\n",
       "assignment_group           10.029496\n",
       "assigned_to                19.402732\n",
       "knowledge                   0.000000\n",
       "u_priority_confirmation     0.000000\n",
       "notify                      0.000000\n",
       "problem_id                 98.380518\n",
       "rfc                        99.300694\n",
       "vendor                     99.827820\n",
       "caused_by                  99.983770\n",
       "closed_code                 0.503839\n",
       "resolved_by                 0.159478\n",
       "resolved_at                 2.216467\n",
       "closed_at                   0.000000\n",
       "dtype: float64"
      ]
     },
     "execution_count": 14,
     "metadata": {},
     "output_type": "execute_result"
    }
   ],
   "source": [
    "#% of null values\n",
    "data_percentage=print('percentage of missing values'.upper())\n",
    "data.isna().sum()/data.shape[0]*100"
   ]
  },
  {
   "cell_type": "code",
   "execution_count": 15,
   "metadata": {},
   "outputs": [],
   "source": [
    "# Dropping Clomns with more than 90% missing values and dropping some more on domain knowledge"
   ]
  },
  {
   "cell_type": "code",
   "execution_count": 16,
   "metadata": {},
   "outputs": [],
   "source": [
    "drop = ['caller_id','sys_created_by','sys_created_at','contact_type','cmdb_ci','u_symptom','assignment_group','assigned_to','knowledge','u_priority_confirmation','caused_by', 'rfc', 'vendor','urgency','priority','notify','problem_id']\n",
    "data.drop(drop,axis=1,inplace=True)"
   ]
  },
  {
   "cell_type": "code",
   "execution_count": 17,
   "metadata": {},
   "outputs": [
    {
     "data": {
      "text/plain": [
       "number                   0\n",
       "incident_state           0\n",
       "active                   0\n",
       "reassignment_count       0\n",
       "reopen_count             0\n",
       "sys_mod_count            0\n",
       "made_sla                 0\n",
       "opened_by             4835\n",
       "opened_at                0\n",
       "sys_updated_by           0\n",
       "sys_updated_at           0\n",
       "location                76\n",
       "category                78\n",
       "subcategory            111\n",
       "impact                   0\n",
       "closed_code            714\n",
       "resolved_by            226\n",
       "resolved_at           3141\n",
       "closed_at                0\n",
       "dtype: int64"
      ]
     },
     "execution_count": 17,
     "metadata": {},
     "output_type": "execute_result"
    }
   ],
   "source": [
    "data.isna().sum()"
   ]
  },
  {
   "cell_type": "code",
   "execution_count": 18,
   "metadata": {},
   "outputs": [],
   "source": [
    "cateogry_columns=data.select_dtypes(include=['category']).columns.tolist()\n",
    "integer_columns=data.select_dtypes(include=['bool']).columns.tolist()\n",
    "\n",
    "for column in data:\n",
    "    if data[column].isnull().any():\n",
    "        if(column in cateogry_columns):\n",
    "            data[column]=data[column].fillna(data[column].mode()[0])\n",
    "        else:\n",
    "            data[column]=df[column].fillna(data[column].mean)"
   ]
  },
  {
   "cell_type": "code",
   "execution_count": 19,
   "metadata": {},
   "outputs": [
    {
     "data": {
      "text/plain": [
       "number                0\n",
       "incident_state        0\n",
       "active                0\n",
       "reassignment_count    0\n",
       "reopen_count          0\n",
       "sys_mod_count         0\n",
       "made_sla              0\n",
       "opened_by             0\n",
       "opened_at             0\n",
       "sys_updated_by        0\n",
       "sys_updated_at        0\n",
       "location              0\n",
       "category              0\n",
       "subcategory           0\n",
       "impact                0\n",
       "closed_code           0\n",
       "resolved_by           0\n",
       "resolved_at           0\n",
       "closed_at             0\n",
       "dtype: int64"
      ]
     },
     "execution_count": 19,
     "metadata": {},
     "output_type": "execute_result"
    }
   ],
   "source": [
    "data.isna().sum()"
   ]
  },
  {
   "cell_type": "code",
   "execution_count": 20,
   "metadata": {},
   "outputs": [
    {
     "name": "stdout",
     "output_type": "stream",
     "text": [
      "<class 'pandas.core.frame.DataFrame'>\n",
      "RangeIndex: 141712 entries, 0 to 141711\n",
      "Data columns (total 19 columns):\n",
      " #   Column              Non-Null Count   Dtype   \n",
      "---  ------              --------------   -----   \n",
      " 0   number              141712 non-null  category\n",
      " 1   incident_state      141712 non-null  category\n",
      " 2   active              141712 non-null  bool    \n",
      " 3   reassignment_count  141712 non-null  int64   \n",
      " 4   reopen_count        141712 non-null  int64   \n",
      " 5   sys_mod_count       141712 non-null  int64   \n",
      " 6   made_sla            141712 non-null  bool    \n",
      " 7   opened_by           141712 non-null  category\n",
      " 8   opened_at           141712 non-null  category\n",
      " 9   sys_updated_by      141712 non-null  category\n",
      " 10  sys_updated_at      141712 non-null  category\n",
      " 11  location            141712 non-null  category\n",
      " 12  category            141712 non-null  category\n",
      " 13  subcategory         141712 non-null  category\n",
      " 14  impact              141712 non-null  category\n",
      " 15  closed_code         141712 non-null  category\n",
      " 16  resolved_by         141712 non-null  category\n",
      " 17  resolved_at         141712 non-null  category\n",
      " 18  closed_at           141712 non-null  category\n",
      "dtypes: bool(2), category(14), int64(3)\n",
      "memory usage: 12.5 MB\n"
     ]
    }
   ],
   "source": [
    "data.info()"
   ]
  },
  {
   "cell_type": "markdown",
   "metadata": {},
   "source": [
    "# LABEL ENCODING"
   ]
  },
  {
   "cell_type": "code",
   "execution_count": 21,
   "metadata": {},
   "outputs": [],
   "source": [
    "from sklearn.preprocessing import LabelEncoder\n",
    "label = LabelEncoder()\n",
    "data['number']=label.fit_transform(data.number)\n",
    "data['incident_state']=label.fit_transform(data.incident_state)\n",
    "data['active']=label.fit_transform(data.active)\n",
    "data['made_sla']=label.fit_transform(data.made_sla)\n",
    "data['opened_by']=label.fit_transform(data.opened_by)\n",
    "data['location']=label.fit_transform(data.location)\n",
    "data['category']=label.fit_transform(data.category)\n",
    "data['subcategory']=label.fit_transform(data.subcategory)\n",
    "data['closed_code']=label.fit_transform(data.closed_code)\n",
    "data['resolved_by']=label.fit_transform(data.resolved_by)\n",
    "data['reassignment_count']=label.fit_transform(data.reassignment_count)\n",
    "data['reopen_count']=label.fit_transform(data.reopen_count)\n",
    "data['sys_mod_count']=label.fit_transform(data.sys_mod_count)\n",
    "data['opened_at']=label.fit_transform(data.opened_at)\n",
    "data['sys_updated_by']=label.fit_transform(data.sys_updated_by)\n",
    "data['sys_updated_at']=label.fit_transform(data.sys_updated_at)\n",
    "data['impact']=label.fit_transform(data.impact)\n",
    "data['resolved_at']=label.fit_transform(data.resolved_at)\n",
    "data['closed_at']=label.fit_transform(data.closed_at)"
   ]
  },
  {
   "cell_type": "code",
   "execution_count": 22,
   "metadata": {},
   "outputs": [
    {
     "data": {
      "text/html": [
       "<div>\n",
       "<style scoped>\n",
       "    .dataframe tbody tr th:only-of-type {\n",
       "        vertical-align: middle;\n",
       "    }\n",
       "\n",
       "    .dataframe tbody tr th {\n",
       "        vertical-align: top;\n",
       "    }\n",
       "\n",
       "    .dataframe thead th {\n",
       "        text-align: right;\n",
       "    }\n",
       "</style>\n",
       "<table border=\"1\" class=\"dataframe\">\n",
       "  <thead>\n",
       "    <tr style=\"text-align: right;\">\n",
       "      <th></th>\n",
       "      <th>number</th>\n",
       "      <th>incident_state</th>\n",
       "      <th>active</th>\n",
       "      <th>reassignment_count</th>\n",
       "      <th>reopen_count</th>\n",
       "      <th>sys_mod_count</th>\n",
       "      <th>made_sla</th>\n",
       "      <th>opened_by</th>\n",
       "      <th>opened_at</th>\n",
       "      <th>sys_updated_by</th>\n",
       "      <th>sys_updated_at</th>\n",
       "      <th>location</th>\n",
       "      <th>category</th>\n",
       "      <th>subcategory</th>\n",
       "      <th>impact</th>\n",
       "      <th>closed_code</th>\n",
       "      <th>resolved_by</th>\n",
       "      <th>resolved_at</th>\n",
       "      <th>closed_at</th>\n",
       "    </tr>\n",
       "  </thead>\n",
       "  <tbody>\n",
       "    <tr>\n",
       "      <th>0</th>\n",
       "      <td>0</td>\n",
       "      <td>7</td>\n",
       "      <td>1</td>\n",
       "      <td>0</td>\n",
       "      <td>0</td>\n",
       "      <td>0</td>\n",
       "      <td>1</td>\n",
       "      <td>200</td>\n",
       "      <td>17840</td>\n",
       "      <td>104</td>\n",
       "      <td>45905</td>\n",
       "      <td>43</td>\n",
       "      <td>46</td>\n",
       "      <td>69</td>\n",
       "      <td>1</td>\n",
       "      <td>12</td>\n",
       "      <td>51</td>\n",
       "      <td>16731</td>\n",
       "      <td>372</td>\n",
       "    </tr>\n",
       "    <tr>\n",
       "      <th>1</th>\n",
       "      <td>0</td>\n",
       "      <td>8</td>\n",
       "      <td>1</td>\n",
       "      <td>0</td>\n",
       "      <td>0</td>\n",
       "      <td>2</td>\n",
       "      <td>1</td>\n",
       "      <td>200</td>\n",
       "      <td>17840</td>\n",
       "      <td>509</td>\n",
       "      <td>45943</td>\n",
       "      <td>43</td>\n",
       "      <td>46</td>\n",
       "      <td>69</td>\n",
       "      <td>1</td>\n",
       "      <td>12</td>\n",
       "      <td>51</td>\n",
       "      <td>16731</td>\n",
       "      <td>372</td>\n",
       "    </tr>\n",
       "    <tr>\n",
       "      <th>2</th>\n",
       "      <td>0</td>\n",
       "      <td>8</td>\n",
       "      <td>1</td>\n",
       "      <td>0</td>\n",
       "      <td>0</td>\n",
       "      <td>3</td>\n",
       "      <td>1</td>\n",
       "      <td>200</td>\n",
       "      <td>17840</td>\n",
       "      <td>658</td>\n",
       "      <td>46034</td>\n",
       "      <td>43</td>\n",
       "      <td>46</td>\n",
       "      <td>69</td>\n",
       "      <td>1</td>\n",
       "      <td>12</td>\n",
       "      <td>51</td>\n",
       "      <td>16731</td>\n",
       "      <td>372</td>\n",
       "    </tr>\n",
       "    <tr>\n",
       "      <th>3</th>\n",
       "      <td>0</td>\n",
       "      <td>6</td>\n",
       "      <td>0</td>\n",
       "      <td>0</td>\n",
       "      <td>0</td>\n",
       "      <td>4</td>\n",
       "      <td>1</td>\n",
       "      <td>200</td>\n",
       "      <td>17840</td>\n",
       "      <td>762</td>\n",
       "      <td>7692</td>\n",
       "      <td>43</td>\n",
       "      <td>46</td>\n",
       "      <td>69</td>\n",
       "      <td>1</td>\n",
       "      <td>12</td>\n",
       "      <td>51</td>\n",
       "      <td>16731</td>\n",
       "      <td>372</td>\n",
       "    </tr>\n",
       "    <tr>\n",
       "      <th>4</th>\n",
       "      <td>1</td>\n",
       "      <td>7</td>\n",
       "      <td>1</td>\n",
       "      <td>0</td>\n",
       "      <td>0</td>\n",
       "      <td>0</td>\n",
       "      <td>1</td>\n",
       "      <td>120</td>\n",
       "      <td>17841</td>\n",
       "      <td>605</td>\n",
       "      <td>45906</td>\n",
       "      <td>62</td>\n",
       "      <td>30</td>\n",
       "      <td>112</td>\n",
       "      <td>1</td>\n",
       "      <td>12</td>\n",
       "      <td>196</td>\n",
       "      <td>31</td>\n",
       "      <td>487</td>\n",
       "    </tr>\n",
       "  </tbody>\n",
       "</table>\n",
       "</div>"
      ],
      "text/plain": [
       "   number  incident_state  active  reassignment_count  reopen_count  \\\n",
       "0       0               7       1                   0             0   \n",
       "1       0               8       1                   0             0   \n",
       "2       0               8       1                   0             0   \n",
       "3       0               6       0                   0             0   \n",
       "4       1               7       1                   0             0   \n",
       "\n",
       "   sys_mod_count  made_sla  opened_by  opened_at  sys_updated_by  \\\n",
       "0              0         1        200      17840             104   \n",
       "1              2         1        200      17840             509   \n",
       "2              3         1        200      17840             658   \n",
       "3              4         1        200      17840             762   \n",
       "4              0         1        120      17841             605   \n",
       "\n",
       "   sys_updated_at  location  category  subcategory  impact  closed_code  \\\n",
       "0           45905        43        46           69       1           12   \n",
       "1           45943        43        46           69       1           12   \n",
       "2           46034        43        46           69       1           12   \n",
       "3            7692        43        46           69       1           12   \n",
       "4           45906        62        30          112       1           12   \n",
       "\n",
       "   resolved_by  resolved_at  closed_at  \n",
       "0           51        16731        372  \n",
       "1           51        16731        372  \n",
       "2           51        16731        372  \n",
       "3           51        16731        372  \n",
       "4          196           31        487  "
      ]
     },
     "execution_count": 22,
     "metadata": {},
     "output_type": "execute_result"
    }
   ],
   "source": [
    "data.head()"
   ]
  },
  {
   "cell_type": "code",
   "execution_count": 23,
   "metadata": {},
   "outputs": [
    {
     "name": "stdout",
     "output_type": "stream",
     "text": [
      "<class 'pandas.core.frame.DataFrame'>\n",
      "RangeIndex: 141712 entries, 0 to 141711\n",
      "Data columns (total 19 columns):\n",
      " #   Column              Non-Null Count   Dtype\n",
      "---  ------              --------------   -----\n",
      " 0   number              141712 non-null  int32\n",
      " 1   incident_state      141712 non-null  int32\n",
      " 2   active              141712 non-null  int64\n",
      " 3   reassignment_count  141712 non-null  int64\n",
      " 4   reopen_count        141712 non-null  int64\n",
      " 5   sys_mod_count       141712 non-null  int64\n",
      " 6   made_sla            141712 non-null  int64\n",
      " 7   opened_by           141712 non-null  int32\n",
      " 8   opened_at           141712 non-null  int32\n",
      " 9   sys_updated_by      141712 non-null  int32\n",
      " 10  sys_updated_at      141712 non-null  int32\n",
      " 11  location            141712 non-null  int32\n",
      " 12  category            141712 non-null  int32\n",
      " 13  subcategory         141712 non-null  int32\n",
      " 14  impact              141712 non-null  int32\n",
      " 15  closed_code         141712 non-null  int32\n",
      " 16  resolved_by         141712 non-null  int32\n",
      " 17  resolved_at         141712 non-null  int32\n",
      " 18  closed_at           141712 non-null  int32\n",
      "dtypes: int32(14), int64(5)\n",
      "memory usage: 13.0 MB\n"
     ]
    }
   ],
   "source": [
    "data.info()"
   ]
  },
  {
   "cell_type": "markdown",
   "metadata": {},
   "source": [
    "# Balancing the dataset"
   ]
  },
  {
   "cell_type": "code",
   "execution_count": 24,
   "metadata": {},
   "outputs": [],
   "source": [
    "X= data.iloc[:,data.columns!='impact']\n",
    "y =data.impact"
   ]
  },
  {
   "cell_type": "code",
   "execution_count": 25,
   "metadata": {},
   "outputs": [],
   "source": [
    "from collections import Counter\n",
    "from sklearn.datasets import make_classification\n",
    "from imblearn.over_sampling import SMOTE"
   ]
  },
  {
   "cell_type": "code",
   "execution_count": 26,
   "metadata": {},
   "outputs": [
    {
     "name": "stdout",
     "output_type": "stream",
     "text": [
      "Original dataset shape Counter({1: 134335, 2: 3886, 0: 3491})\n"
     ]
    }
   ],
   "source": [
    "print('Original dataset shape {}'.format(Counter(y)))"
   ]
  },
  {
   "cell_type": "code",
   "execution_count": 27,
   "metadata": {},
   "outputs": [],
   "source": [
    "smt = SMOTE(random_state= 42)"
   ]
  },
  {
   "cell_type": "markdown",
   "metadata": {},
   "source": [
    "# Splitting the dataset"
   ]
  },
  {
   "cell_type": "markdown",
   "metadata": {},
   "source": [
    "1)Splitting the dataset"
   ]
  },
  {
   "cell_type": "code",
   "execution_count": 28,
   "metadata": {},
   "outputs": [],
   "source": [
    "from fast_ml.model_development import train_valid_test_split\n",
    "\n",
    "X_train, y_train, X_valid, y_valid, X_test, y_test = train_valid_test_split(data, target ='impact', train_size=0.8, valid_size=0.1, test_size=0.1)\n"
   ]
  },
  {
   "cell_type": "code",
   "execution_count": 29,
   "metadata": {},
   "outputs": [
    {
     "name": "stdout",
     "output_type": "stream",
     "text": [
      "(113369, 18)\n",
      "(113369,)\n",
      "(14172, 18)\n",
      "(14172,)\n",
      "(14171, 18)\n",
      "(14171,)\n"
     ]
    },
    {
     "data": {
      "text/plain": [
       "(None, None)"
      ]
     },
     "execution_count": 29,
     "metadata": {},
     "output_type": "execute_result"
    }
   ],
   "source": [
    "print(X_train.shape), print(y_train.shape)\n",
    "print(X_test.shape), print(y_test.shape)\n",
    "print (X_valid.shape), print(y_valid.shape)"
   ]
  },
  {
   "cell_type": "markdown",
   "metadata": {},
   "source": [
    "2)Splitting the dataset again"
   ]
  },
  {
   "cell_type": "code",
   "execution_count": 30,
   "metadata": {},
   "outputs": [],
   "source": [
    "from sklearn.model_selection import train_test_split\n",
    "X_train_1,X_test_1,y_train_1,y_test_1 = train_test_split(X_train,y_train,test_size=0.2, random_state=42)"
   ]
  },
  {
   "cell_type": "code",
   "execution_count": 31,
   "metadata": {},
   "outputs": [],
   "source": [
    "X_res, y_res = smt.fit_resample(X_train_1, y_train_1)"
   ]
  },
  {
   "cell_type": "code",
   "execution_count": 32,
   "metadata": {},
   "outputs": [
    {
     "name": "stdout",
     "output_type": "stream",
     "text": [
      "Class=2, n=85989 (33.333%)\n"
     ]
    },
    {
     "data": {
      "image/png": "[encoded data removed]",
      "text/plain": [
       "<Figure size 432x288 with 1 Axes>"
      ]
     },
     "metadata": {
      "needs_background": "light"
     },
     "output_type": "display_data"
    }
   ],
   "source": [
    "# summarize distribution\n",
    "counter = Counter(y_res)\n",
    "for k,v in counter.items():\n",
    "    per = v / len(y_res) * 100\n",
    "print('Class=%d, n=%d (%.3f%%)' % (k, v, per))\n",
    "# plot the distribution\n",
    "plt.bar(counter.keys(), counter.values())\n",
    "plt.show()"
   ]
  },
  {
   "cell_type": "code",
   "execution_count": 33,
   "metadata": {},
   "outputs": [
    {
     "data": {
      "text/plain": [
       "<AxesSubplot:>"
      ]
     },
     "execution_count": 33,
     "metadata": {},
     "output_type": "execute_result"
    },
    {
     "data": {
      "image/png": "[encoded data removed]",
      "text/plain": [
       "<Figure size 1800x720 with 3 Axes>"
      ]
     },
     "metadata": {
      "needs_background": "light"
     },
     "output_type": "display_data"
    }
   ],
   "source": [
    "msno.bar(X_res)"
   ]
  },
  {
   "cell_type": "code",
   "execution_count": 34,
   "metadata": {},
   "outputs": [
    {
     "data": {
      "text/plain": [
       "<seaborn.axisgrid.FacetGrid at 0x283268374f0>"
      ]
     },
     "execution_count": 34,
     "metadata": {},
     "output_type": "execute_result"
    },
    {
     "data": {
      "image/png": "[encoded data removed]",
      "text/plain": [
       "<Figure size 360x360 with 1 Axes>"
      ]
     },
     "metadata": {
      "needs_background": "light"
     },
     "output_type": "display_data"
    }
   ],
   "source": [
    "sns.catplot(x=y_res, kind=\"count\", palette=\"ch:.25\", data=data)"
   ]
  },
  {
   "cell_type": "markdown",
   "metadata": {},
   "source": [
    "+ Now the data is balanced"
   ]
  },
  {
   "cell_type": "markdown",
   "metadata": {},
   "source": [
    "# Feature selection on balanced data"
   ]
  },
  {
   "cell_type": "markdown",
   "metadata": {},
   "source": [
    "### Feature Selection: Using Chi square"
   ]
  },
  {
   "cell_type": "code",
   "execution_count": 35,
   "metadata": {},
   "outputs": [
    {
     "name": "stdout",
     "output_type": "stream",
     "text": [
      "[5.55871254e+07 6.14410025e+02 3.27716694e+02 4.80880023e+03\n",
      " 1.72935621e+03 1.15507105e+04 4.72254706e+02 1.16775055e+06\n",
      " 1.36850806e+07 2.11302141e+05 1.15870166e+07 1.96600873e+04\n",
      " 1.57437685e+03 2.68814556e+04 1.11701354e+03 7.09591348e+04\n",
      " 4.20955954e+06 5.23297525e+05]\n"
     ]
    }
   ],
   "source": [
    "import sklearn\n",
    "from sklearn.feature_selection import SelectKBest\n",
    "from sklearn.feature_selection import chi2\n",
    "\n",
    "chi2 = SelectKBest(score_func=chi2, k='all')\n",
    "model_chi2 = chi2.fit(X_res, y_res)\n",
    "\n",
    "print(model_chi2.scores_)\n",
    "features_select =model_chi2.transform(X_res)"
   ]
  },
  {
   "cell_type": "code",
   "execution_count": 36,
   "metadata": {},
   "outputs": [],
   "source": [
    "features=np.array([5.28536993e+07 ,6.36200867e+02, 3.25402711e+02, 7.72880067e+03,\n",
    "                   1.33119476e+03, 1.72260860e+04, 5.02038367e+02, 1.17949711e+06,\n",
    "                   1.40113564e+07 ,1.69089462e+05, 9.51394545e+06, 1.46041410e+04,\n",
    "                   7.60480909e+02 ,3.93255145e+04 ,1.05345261e+05 ,1.91918191e+05,\n",
    "                   1.02783361e+03 ,9.19763868e+04 ,5.03129542e+06 ,7.00300960e+05])"
   ]
  },
  {
   "cell_type": "code",
   "execution_count": 37,
   "metadata": {},
   "outputs": [],
   "source": [
    "features=pd.DataFrame(features)"
   ]
  },
  {
   "cell_type": "code",
   "execution_count": 38,
   "metadata": {},
   "outputs": [
    {
     "data": {
      "text/plain": [
       "<AxesSubplot:>"
      ]
     },
     "execution_count": 38,
     "metadata": {},
     "output_type": "execute_result"
    },
    {
     "data": {
      "image/png": "[encoded data removed]",
      "text/plain": [
       "<Figure size 432x288 with 1 Axes>"
      ]
     },
     "metadata": {
      "needs_background": "light"
     },
     "output_type": "display_data"
    }
   ],
   "source": [
    "features.plot.bar()"
   ]
  },
  {
   "cell_type": "code",
   "execution_count": 39,
   "metadata": {},
   "outputs": [],
   "source": [
    "array=np.array ([[23622,     7,     1, ...,   169,  1142,   676],\n",
    "       [23148,     7,     1, ...,     4, 14456,  2524],\n",
    "       [ 5983,     8,     1, ...,    11, 12751,  2222],\n",
    "       ...,\n",
    "       [ 4440,     7,     0, ...,    22, 15757,   637],\n",
    "       [ 1984,     6,     0, ...,    54,  6066,  2029],\n",
    "       [19912,     7,     1, ...,    37,  6138,  1357]],dtype=object)"
   ]
  },
  {
   "cell_type": "markdown",
   "metadata": {},
   "source": [
    "### Feature Selection:Using Mutual info classifier"
   ]
  },
  {
   "cell_type": "code",
   "execution_count": 40,
   "metadata": {},
   "outputs": [],
   "source": [
    "from sklearn.feature_selection import mutual_info_classif\n",
    "\n",
    "mic = SelectKBest(score_func=mutual_info_classif, k='all')\n",
    "model_mic=mic.fit(X_res, y_res)\n",
    "features_select = model_mic.transform(X_res)"
   ]
  },
  {
   "cell_type": "code",
   "execution_count": 41,
   "metadata": {},
   "outputs": [
    {
     "name": "stdout",
     "output_type": "stream",
     "text": [
      "Feature 0: 0.418565\n",
      "Feature 1: 0.068101\n",
      "Feature 2: 0.016957\n",
      "Feature 3: 0.011696\n",
      "Feature 4: 0.003343\n",
      "Feature 5: 0.031034\n",
      "Feature 6: 0.029701\n",
      "Feature 7: 0.413080\n",
      "Feature 8: 0.390219\n",
      "Feature 9: 0.282701\n",
      "Feature 10: 0.248324\n",
      "Feature 11: 0.174743\n",
      "Feature 12: 0.183049\n",
      "Feature 13: 0.184026\n",
      "Feature 14: 0.040247\n",
      "Feature 15: 0.245429\n",
      "Feature 16: 0.367999\n",
      "Feature 17: 0.304091\n"
     ]
    },
    {
     "data": {
      "image/png": "[encoded data removed]",
      "text/plain": [
       "<Figure size 432x288 with 1 Axes>"
      ]
     },
     "metadata": {
      "needs_background": "light"
     },
     "output_type": "display_data"
    }
   ],
   "source": [
    "for i in range(len(model_mic.scores_)):\n",
    "    print('Feature %d: %f' % (i, model_mic.scores_[i]))\n",
    "    \n",
    "plt.bar([i for i in range(len(model_mic.scores_))], model_mic.scores_)\n",
    "plt.show()  "
   ]
  },
  {
   "cell_type": "markdown",
   "metadata": {},
   "source": [
    "### Decision tree"
   ]
  },
  {
   "cell_type": "code",
   "execution_count": 42,
   "metadata": {},
   "outputs": [
    {
     "name": "stdout",
     "output_type": "stream",
     "text": [
      "0.9747719950400551\n"
     ]
    }
   ],
   "source": [
    "from sklearn.tree import  DecisionTreeClassifier\n",
    "model_dt=DecisionTreeClassifier()\n",
    "model_dt.fit(X_res,y_res)\n",
    "\n",
    "from sklearn.model_selection import cross_val_score\n",
    "results = cross_val_score(model_dt,X_res, y_res)\n",
    "print(results.mean())"
   ]
  },
  {
   "cell_type": "code",
   "execution_count": 43,
   "metadata": {},
   "outputs": [
    {
     "name": "stdout",
     "output_type": "stream",
     "text": [
      "Feature: 0, Score: 0.11586\n",
      "Feature: 1, Score: 0.01726\n",
      "Feature: 2, Score: 0.00254\n",
      "Feature: 3, Score: 0.01035\n",
      "Feature: 4, Score: 0.00109\n",
      "Feature: 5, Score: 0.02073\n",
      "Feature: 6, Score: 0.01912\n",
      "Feature: 7, Score: 0.30916\n",
      "Feature: 8, Score: 0.06580\n",
      "Feature: 9, Score: 0.03987\n",
      "Feature: 10, Score: 0.02843\n",
      "Feature: 11, Score: 0.03958\n",
      "Feature: 12, Score: 0.05171\n",
      "Feature: 13, Score: 0.07646\n",
      "Feature: 14, Score: 0.02246\n",
      "Feature: 15, Score: 0.08002\n",
      "Feature: 16, Score: 0.05194\n",
      "Feature: 17, Score: 0.04763\n"
     ]
    },
    {
     "data": {
      "image/png": "[encoded data removed]",
      "text/plain": [
       "<Figure size 432x288 with 1 Axes>"
      ]
     },
     "metadata": {
      "needs_background": "light"
     },
     "output_type": "display_data"
    }
   ],
   "source": [
    " #get importance\n",
    "imp = model_dt.feature_importances_\n",
    "#summarize feature importance\n",
    "for i,v in enumerate(imp):\n",
    "    print('Feature: %0d, Score: %.5f' % (i,v))\n",
    "#plot feature importance\n",
    "plt.bar([x for x in range(len(imp))], imp)\n",
    "plt.show()"
   ]
  },
  {
   "cell_type": "markdown",
   "metadata": {},
   "source": [
    "### Random Forest"
   ]
  },
  {
   "cell_type": "raw",
   "metadata": {},
   "source": [
    "from sklearn.ensemble import RandomForestClassifier\n",
    "from sklearn.model_selection import cross_val_score"
   ]
  },
  {
   "cell_type": "raw",
   "metadata": {},
   "source": [
    "num_trees = 100\n",
    "model_rf = RandomForestClassifier(n_estimators=num_trees)\n",
    "model_rf.fit(X_res,y_res)\n",
    "\n",
    "results = cross_val_score(model_rf,X_res, y_res)\n",
    "print(results.mean())"
   ]
  },
  {
   "cell_type": "raw",
   "metadata": {},
   "source": [
    "model_rf.fit(X_train,y_train)"
   ]
  },
  {
   "cell_type": "raw",
   "metadata": {},
   "source": [
    "rf=SelectKBest(score_func=RandomForestClassifier, k=5)\n",
    "fit=rf.fit(X_res,y_res)\n",
    "features_select = fit.transform(X_res)\n"
   ]
  },
  {
   "cell_type": "raw",
   "metadata": {},
   "source": [
    "import pandas as pd\n",
    "feature_imp = pd.Series(model_rf.feature_importances_).sort_values(ascending=False)\n",
    "feature_imp"
   ]
  },
  {
   "cell_type": "raw",
   "metadata": {},
   "source": [
    "# get importance\n",
    "imp = model_rf.feature_importances_\n",
    "# summarize feature importance\n",
    "for i,v in enumerate(imp):\n",
    "    print('Feature: %0d, Score: %.5f' % (i,v))\n",
    "# plot feature importance\n",
    "plt.bar([x for x in range(len(imp))], imp)\n",
    "plt.show()"
   ]
  },
  {
   "cell_type": "markdown",
   "metadata": {},
   "source": [
    "# Final columns to be dropped are as follows"
   ]
  },
  {
   "cell_type": "code",
   "execution_count": 44,
   "metadata": {},
   "outputs": [
    {
     "data": {
      "text/plain": [
       "(141712, 19)"
      ]
     },
     "execution_count": 44,
     "metadata": {},
     "output_type": "execute_result"
    }
   ],
   "source": [
    "data.shape"
   ]
  },
  {
   "cell_type": "code",
   "execution_count": 45,
   "metadata": {},
   "outputs": [
    {
     "data": {
      "text/plain": [
       "(141712, 11)"
      ]
     },
     "execution_count": 45,
     "metadata": {},
     "output_type": "execute_result"
    }
   ],
   "source": [
    "data = data.drop(columns=['active', 'reassignment_count','reopen_count', 'sys_mod_count', 'made_sla','location', 'category','closed_code'])\n",
    "data.shape"
   ]
  },
  {
   "cell_type": "code",
   "execution_count": 46,
   "metadata": {},
   "outputs": [],
   "source": [
    "new_data =data"
   ]
  },
  {
   "cell_type": "code",
   "execution_count": 47,
   "metadata": {},
   "outputs": [
    {
     "data": {
      "text/plain": [
       "Index(['number', 'incident_state', 'opened_by', 'opened_at', 'sys_updated_by',\n",
       "       'sys_updated_at', 'subcategory', 'impact', 'resolved_by', 'resolved_at',\n",
       "       'closed_at'],\n",
       "      dtype='object')"
      ]
     },
     "execution_count": 47,
     "metadata": {},
     "output_type": "execute_result"
    }
   ],
   "source": [
    "new_data.columns"
   ]
  },
  {
   "cell_type": "code",
   "execution_count": 48,
   "metadata": {},
   "outputs": [],
   "source": [
    "A_train, b_train, A_valid, b_valid, A_test, b_test = train_valid_test_split(new_data, target ='impact', train_size=0.8, valid_size=0.1, test_size=0.1)"
   ]
  },
  {
   "cell_type": "code",
   "execution_count": 49,
   "metadata": {},
   "outputs": [
    {
     "name": "stdout",
     "output_type": "stream",
     "text": [
      "(113369, 10)\n",
      "(113369,)\n",
      "(14172, 10)\n",
      "(14172,)\n",
      "(14171, 10)\n",
      "(14171,)\n"
     ]
    },
    {
     "data": {
      "text/plain": [
       "(None, None)"
      ]
     },
     "execution_count": 49,
     "metadata": {},
     "output_type": "execute_result"
    }
   ],
   "source": [
    "print(A_train.shape), print( b_train.shape)\n",
    "print(A_test.shape), print( b_test.shape)\n",
    "print(A_valid.shape), print(b_valid.shape)"
   ]
  },
  {
   "cell_type": "code",
   "execution_count": 50,
   "metadata": {},
   "outputs": [],
   "source": [
    "A_train_1,A_test_1,b_train_1,b_test_1 = train_test_split(A_train,b_train,test_size=0.2, random_state=42)"
   ]
  },
  {
   "cell_type": "code",
   "execution_count": 51,
   "metadata": {},
   "outputs": [
    {
     "name": "stdout",
     "output_type": "stream",
     "text": [
      "(90695, 10)\n",
      "(90695,)\n"
     ]
    },
    {
     "data": {
      "text/plain": [
       "(None, None)"
      ]
     },
     "execution_count": 51,
     "metadata": {},
     "output_type": "execute_result"
    }
   ],
   "source": [
    "print(A_train_1.shape), print(b_train_1.shape)"
   ]
  },
  {
   "cell_type": "code",
   "execution_count": 52,
   "metadata": {},
   "outputs": [
    {
     "name": "stdout",
     "output_type": "stream",
     "text": [
      "Class=2, n=2488 (2.743%)\n"
     ]
    },
    {
     "data": {
      "image/png": "[encoded data removed]",
      "text/plain": [
       "<Figure size 432x288 with 1 Axes>"
      ]
     },
     "metadata": {
      "needs_background": "light"
     },
     "output_type": "display_data"
    }
   ],
   "source": [
    "# summarize distribution\n",
    "counter = Counter(y_train_1)\n",
    "for k,v in counter.items():\n",
    "    per = v / len(y_train_1) * 100\n",
    "print('Class=%d, n=%d (%.3f%%)' % (k, v, per))\n",
    "# plot the distribution\n",
    "plt.bar(counter.keys(), counter.values())\n",
    "plt.show()"
   ]
  },
  {
   "cell_type": "code",
   "execution_count": 53,
   "metadata": {},
   "outputs": [],
   "source": [
    "A_res, b_res = smt.fit_resample(A_train_1, b_train_1)"
   ]
  },
  {
   "cell_type": "code",
   "execution_count": 54,
   "metadata": {},
   "outputs": [
    {
     "name": "stdout",
     "output_type": "stream",
     "text": [
      "Class=0, n=86012 (33.333%)\n"
     ]
    },
    {
     "data": {
      "image/png": "[encoded data removed]",
      "text/plain": [
       "<Figure size 432x288 with 1 Axes>"
      ]
     },
     "metadata": {
      "needs_background": "light"
     },
     "output_type": "display_data"
    }
   ],
   "source": [
    "# summarize distribution\n",
    "counter = Counter(b_res)\n",
    "for k,v in counter.items():\n",
    "    per = v / len(b_res) * 100\n",
    "print('Class=%d, n=%d (%.3f%%)' % (k, v, per))\n",
    "# plot the distribution\n",
    "plt.bar(counter.keys(), counter.values())\n",
    "plt.show()"
   ]
  },
  {
   "cell_type": "code",
   "execution_count": 55,
   "metadata": {},
   "outputs": [
    {
     "name": "stdout",
     "output_type": "stream",
     "text": [
      "<class 'pandas.core.frame.DataFrame'>\n",
      "RangeIndex: 141712 entries, 0 to 141711\n",
      "Data columns (total 11 columns):\n",
      " #   Column          Non-Null Count   Dtype\n",
      "---  ------          --------------   -----\n",
      " 0   number          141712 non-null  int32\n",
      " 1   incident_state  141712 non-null  int32\n",
      " 2   opened_by       141712 non-null  int32\n",
      " 3   opened_at       141712 non-null  int32\n",
      " 4   sys_updated_by  141712 non-null  int32\n",
      " 5   sys_updated_at  141712 non-null  int32\n",
      " 6   subcategory     141712 non-null  int32\n",
      " 7   impact          141712 non-null  int32\n",
      " 8   resolved_by     141712 non-null  int32\n",
      " 9   resolved_at     141712 non-null  int32\n",
      " 10  closed_at       141712 non-null  int32\n",
      "dtypes: int32(11)\n",
      "memory usage: 5.9 MB\n"
     ]
    }
   ],
   "source": [
    "new_data.info()"
   ]
  },
  {
   "cell_type": "raw",
   "metadata": {},
   "source": [
    "Model building after keeping the final 12 features in consideration also created a new_data as new dataset¶¶\n"
   ]
  },
  {
   "cell_type": "markdown",
   "metadata": {},
   "source": [
    "# MODEL BUILDING ALGORITHMS"
   ]
  },
  {
   "cell_type": "markdown",
   "metadata": {},
   "source": [
    "# 1.Decision Tree"
   ]
  },
  {
   "cell_type": "markdown",
   "metadata": {},
   "source": [
    "+ TRAINING SET"
   ]
  },
  {
   "cell_type": "code",
   "execution_count": 56,
   "metadata": {},
   "outputs": [
    {
     "name": "stdout",
     "output_type": "stream",
     "text": [
      "0.9532945223604128\n",
      "[[  367   182    18]\n",
      " [  476 20717   284]\n",
      " [   15    84   531]]\n",
      "              precision    recall  f1-score   support\n",
      "\n",
      "           0       0.43      0.65      0.52       567\n",
      "           1       0.99      0.96      0.98     21477\n",
      "           2       0.64      0.84      0.73       630\n",
      "\n",
      "    accuracy                           0.95     22674\n",
      "   macro avg       0.68      0.82      0.74     22674\n",
      "weighted avg       0.96      0.95      0.96     22674\n",
      "\n"
     ]
    }
   ],
   "source": [
    "from sklearn.tree import  DecisionTreeClassifier\n",
    "model_dt=DecisionTreeClassifier()\n",
    "model_dt.fit(A_res,b_res)\n",
    "\n",
    "from sklearn.metrics import accuracy_score, classification_report, confusion_matrix\n",
    "y_pred = model_dt.predict(A_test_1)\n",
    "print(accuracy_score(b_test_1, y_pred))\n",
    "print(confusion_matrix(b_test_1, y_pred))\n",
    "print(classification_report(b_test_1, y_pred))"
   ]
  },
  {
   "cell_type": "markdown",
   "metadata": {},
   "source": [
    "+ VALIDATION SET"
   ]
  },
  {
   "cell_type": "code",
   "execution_count": 57,
   "metadata": {},
   "outputs": [
    {
     "name": "stdout",
     "output_type": "stream",
     "text": [
      "Accuracy: 0.944 (0.006)\n"
     ]
    }
   ],
   "source": [
    "from sklearn.model_selection import KFold\n",
    "from numpy import mean\n",
    "from numpy import std\n",
    "# prepare the cross-validation procedure\n",
    "cv = KFold(n_splits=10, random_state=1, shuffle=True)\n",
    "# evaluate model\n",
    "scores = cross_val_score(model_dt,A_valid, b_valid, scoring='accuracy', cv=cv)\n",
    "# report performance\n",
    "print('Accuracy: %.3f (%.3f)' % (mean(scores), std(scores)))"
   ]
  },
  {
   "cell_type": "markdown",
   "metadata": {},
   "source": [
    "+ TEST DATA"
   ]
  },
  {
   "cell_type": "code",
   "execution_count": 58,
   "metadata": {},
   "outputs": [
    {
     "name": "stdout",
     "output_type": "stream",
     "text": [
      "0.9518063787750494\n",
      "[[  260   115     9]\n",
      " [  324 12928   172]\n",
      " [    6    57   301]]\n"
     ]
    }
   ],
   "source": [
    "from sklearn.metrics import accuracy_score, classification_report, confusion_matrix\n",
    "y_pred = model_dt.predict(A_test)\n",
    "print(accuracy_score(b_test, y_pred))\n",
    "print(confusion_matrix(b_test, y_pred))"
   ]
  },
  {
   "cell_type": "markdown",
   "metadata": {},
   "source": [
    "# 2.Random Forest"
   ]
  },
  {
   "cell_type": "markdown",
   "metadata": {},
   "source": [
    "+ TRAINING SET"
   ]
  },
  {
   "cell_type": "code",
   "execution_count": 59,
   "metadata": {},
   "outputs": [
    {
     "name": "stdout",
     "output_type": "stream",
     "text": [
      "0.9782129311105231\n",
      "[[  382   179     6]\n",
      " [  102 21253   122]\n",
      " [    5    80   545]]\n",
      "              precision    recall  f1-score   support\n",
      "\n",
      "           0       0.78      0.67      0.72       567\n",
      "           1       0.99      0.99      0.99     21477\n",
      "           2       0.81      0.87      0.84       630\n",
      "\n",
      "    accuracy                           0.98     22674\n",
      "   macro avg       0.86      0.84      0.85     22674\n",
      "weighted avg       0.98      0.98      0.98     22674\n",
      "\n"
     ]
    }
   ],
   "source": [
    "from sklearn.ensemble import RandomForestClassifier\n",
    "num_trees = 100\n",
    "model_rf = RandomForestClassifier(n_estimators=num_trees)\n",
    "model_rf.fit(A_res,b_res)\n",
    "\n",
    "from sklearn.metrics import accuracy_score, classification_report, confusion_matrix\n",
    "y_pred = model_rf.predict(A_test_1)\n",
    "print(accuracy_score(b_test_1, y_pred))\n",
    "print(confusion_matrix(b_test_1, y_pred))\n",
    "print(classification_report(b_test_1, y_pred))"
   ]
  },
  {
   "cell_type": "markdown",
   "metadata": {},
   "source": [
    "+ VALIDATION SET"
   ]
  },
  {
   "cell_type": "code",
   "execution_count": 60,
   "metadata": {},
   "outputs": [
    {
     "name": "stdout",
     "output_type": "stream",
     "text": [
      "Accuracy: 0.963 (0.006)\n"
     ]
    }
   ],
   "source": [
    "# prepare the cross-validation procedure\n",
    "cv = KFold(n_splits=10, random_state=1, shuffle=True)\n",
    "# evaluate model\n",
    "scores = cross_val_score(model_rf,A_valid, b_valid, scoring='accuracy', cv=cv)\n",
    "# report performance\n",
    "print('Accuracy: %.3f (%.3f)' % (mean(scores), std(scores)))"
   ]
  },
  {
   "cell_type": "markdown",
   "metadata": {},
   "source": [
    "+ TEST DATA"
   ]
  },
  {
   "cell_type": "code",
   "execution_count": 61,
   "metadata": {},
   "outputs": [
    {
     "name": "stdout",
     "output_type": "stream",
     "text": [
      "0.9773497036409822\n",
      "[[  260   124     0]\n",
      " [   65 13290    69]\n",
      " [    2    61   301]]\n"
     ]
    }
   ],
   "source": [
    "from sklearn.metrics import accuracy_score, classification_report, confusion_matrix\n",
    "y_pred = model_rf.predict(A_test)\n",
    "print(accuracy_score(b_test, y_pred))\n",
    "print(confusion_matrix(b_test, y_pred))"
   ]
  },
  {
   "cell_type": "markdown",
   "metadata": {},
   "source": [
    "# 3.Gausian NB"
   ]
  },
  {
   "cell_type": "markdown",
   "metadata": {},
   "source": [
    "+ TRAINING SET"
   ]
  },
  {
   "cell_type": "code",
   "execution_count": 62,
   "metadata": {},
   "outputs": [
    {
     "name": "stdout",
     "output_type": "stream",
     "text": [
      "0.3786275028667196\n",
      "[[ 245  157  165]\n",
      " [5616 7971 7890]\n",
      " [ 105  156  369]]\n",
      "              precision    recall  f1-score   support\n",
      "\n",
      "           0       0.04      0.43      0.08       567\n",
      "           1       0.96      0.37      0.54     21477\n",
      "           2       0.04      0.59      0.08       630\n",
      "\n",
      "    accuracy                           0.38     22674\n",
      "   macro avg       0.35      0.46      0.23     22674\n",
      "weighted avg       0.91      0.38      0.51     22674\n",
      "\n"
     ]
    }
   ],
   "source": [
    "from sklearn.naive_bayes import GaussianNB\n",
    "model_nb = GaussianNB()\n",
    "model_nb.fit(A_res,b_res)\n",
    "\n",
    "from sklearn.metrics import accuracy_score, classification_report, confusion_matrix\n",
    "y_pred = model_nb.predict(A_test_1)\n",
    "print(accuracy_score(b_test_1, y_pred))\n",
    "print(confusion_matrix(b_test_1, y_pred))\n",
    "print(classification_report(b_test_1, y_pred))"
   ]
  },
  {
   "cell_type": "markdown",
   "metadata": {},
   "source": [
    "+ VALIDATION SET"
   ]
  },
  {
   "cell_type": "code",
   "execution_count": 63,
   "metadata": {},
   "outputs": [
    {
     "name": "stdout",
     "output_type": "stream",
     "text": [
      "Accuracy: 0.947 (0.008)\n"
     ]
    }
   ],
   "source": [
    "# prepare the cross-validation procedure\n",
    "cv = KFold(n_splits=10, random_state=1, shuffle=True)\n",
    "# evaluate model\n",
    "scores = cross_val_score(model_nb,A_valid, b_valid, scoring='accuracy', cv=cv)\n",
    "# report performance\n",
    "print('Accuracy: %.3f (%.3f)' % (mean(scores), std(scores)))"
   ]
  },
  {
   "cell_type": "markdown",
   "metadata": {},
   "source": [
    "+ TEST DATA"
   ]
  },
  {
   "cell_type": "code",
   "execution_count": 64,
   "metadata": {},
   "outputs": [
    {
     "name": "stdout",
     "output_type": "stream",
     "text": [
      "0.38491391476150155\n",
      "[[ 155  105  124]\n",
      " [3442 5099 4883]\n",
      " [  78   85  201]]\n"
     ]
    }
   ],
   "source": [
    "from sklearn.metrics import accuracy_score, classification_report, confusion_matrix\n",
    "y_pred = model_nb.predict(A_test)\n",
    "print(accuracy_score(b_test, y_pred))\n",
    "print(confusion_matrix(b_test, y_pred))"
   ]
  },
  {
   "cell_type": "markdown",
   "metadata": {},
   "source": [
    "# 4. KNN"
   ]
  },
  {
   "cell_type": "markdown",
   "metadata": {},
   "source": [
    "+ TRAINING SET"
   ]
  },
  {
   "cell_type": "code",
   "execution_count": 65,
   "metadata": {},
   "outputs": [
    {
     "name": "stdout",
     "output_type": "stream",
     "text": [
      "0.8869630413689689\n",
      "[[  361   186    20]\n",
      " [  990 19351  1136]\n",
      " [   27   204   399]]\n",
      "              precision    recall  f1-score   support\n",
      "\n",
      "           0       0.26      0.64      0.37       567\n",
      "           1       0.98      0.90      0.94     21477\n",
      "           2       0.26      0.63      0.37       630\n",
      "\n",
      "    accuracy                           0.89     22674\n",
      "   macro avg       0.50      0.72      0.56     22674\n",
      "weighted avg       0.94      0.89      0.91     22674\n",
      "\n"
     ]
    }
   ],
   "source": [
    "from sklearn.neighbors  import KNeighborsClassifier\n",
    "model_knn = KNeighborsClassifier(n_neighbors=3)\n",
    "model_knn.fit(A_res,b_res)\n",
    "\n",
    "from sklearn.metrics import accuracy_score, classification_report, confusion_matrix\n",
    "y_pred = model_knn.predict(A_test_1)\n",
    "print(accuracy_score(b_test_1, y_pred))\n",
    "print(confusion_matrix(b_test_1, y_pred))\n",
    "print(classification_report(b_test_1, y_pred))"
   ]
  },
  {
   "cell_type": "markdown",
   "metadata": {},
   "source": [
    "+ VALIDATION SET"
   ]
  },
  {
   "cell_type": "code",
   "execution_count": 66,
   "metadata": {},
   "outputs": [
    {
     "name": "stdout",
     "output_type": "stream",
     "text": [
      "Accuracy: 0.938 (0.009)\n"
     ]
    }
   ],
   "source": [
    "# prepare the cross-validation procedure\n",
    "cv = KFold(n_splits=10, random_state=1, shuffle=True)\n",
    "# evaluate model\n",
    "scores = cross_val_score(model_knn,A_valid, b_valid, scoring='accuracy', cv=cv)\n",
    "# report performance\n",
    "print('Accuracy: %.3f (%.3f)' % (mean(scores), std(scores)))"
   ]
  },
  {
   "cell_type": "markdown",
   "metadata": {},
   "source": [
    "+ TEST DATA"
   ]
  },
  {
   "cell_type": "code",
   "execution_count": 67,
   "metadata": {},
   "outputs": [
    {
     "name": "stdout",
     "output_type": "stream",
     "text": [
      "0.893663561953147\n",
      "[[  236   132    16]\n",
      " [  597 12194   633]\n",
      " [   13   116   235]]\n"
     ]
    }
   ],
   "source": [
    "from sklearn.metrics import accuracy_score, classification_report, confusion_matrix\n",
    "y_pred = model_knn.predict(A_test)\n",
    "print(accuracy_score(b_test, y_pred))\n",
    "print(confusion_matrix(b_test, y_pred))"
   ]
  },
  {
   "cell_type": "markdown",
   "metadata": {},
   "source": [
    "# 5.Support vector Classifier"
   ]
  },
  {
   "cell_type": "markdown",
   "metadata": {},
   "source": [
    "+ TRAINING SET"
   ]
  },
  {
   "cell_type": "raw",
   "metadata": {},
   "source": [
    "from sklearn.svm import SVC\n",
    "\n",
    "model_svc= SVC(kernel='linear', probability=True, class_weight='balanced')\n",
    "model_svc.fit(A_res,b_res)\n",
    "\n",
    "from sklearn.metrics import accuracy_score, classification_report, confusion_matrix\n",
    "y_pred = model_svc.predict(A_test_1)\n",
    "print(accuracy_score(b_test_1, y_pred))\n",
    "print(confusion_matrix(b_test_1, y_pred))\n",
    "print(classification_report(b_test_1, y_pred))"
   ]
  },
  {
   "cell_type": "markdown",
   "metadata": {},
   "source": [
    "+ VALIDATION SET"
   ]
  },
  {
   "cell_type": "raw",
   "metadata": {},
   "source": [
    "# prepare the cross-validation procedure\n",
    "cv = KFold(n_splits=10, random_state=1, shuffle=True)\n",
    "# evaluate model\n",
    "scores = cross_val_score(model_svc,A_valid, b_valid, scoring='accuracy', cv=cv)\n",
    "# report performance\n",
    "print('Accuracy: %.3f (%.3f)' % (mean(scores), std(scores)))"
   ]
  },
  {
   "cell_type": "markdown",
   "metadata": {},
   "source": [
    "+ TEST DATA"
   ]
  },
  {
   "cell_type": "raw",
   "metadata": {},
   "source": [
    "from sklearn.metrics import accuracy_score, classification_report, confusion_matrix\n",
    "y_pred = model_svc.predict(A_test)\n",
    "print(accuracy_score(b_test, y_pred))\n",
    "print(confusion_matrix(b_test, y_pred))"
   ]
  },
  {
   "cell_type": "markdown",
   "metadata": {},
   "source": [
    "# 6.NEURAL NETWORK"
   ]
  },
  {
   "cell_type": "markdown",
   "metadata": {},
   "source": [
    "+ TRAINING SET"
   ]
  },
  {
   "cell_type": "code",
   "execution_count": 68,
   "metadata": {},
   "outputs": [],
   "source": [
    "from sklearn.neighbors  import KNeighborsClassifier\n",
    "from keras.models import Sequential\n",
    "model_NN = Sequential()"
   ]
  },
  {
   "cell_type": "code",
   "execution_count": 71,
   "metadata": {},
   "outputs": [
    {
     "name": "stdout",
     "output_type": "stream",
     "text": [
      "Model: \"sequential\"\n",
      "_________________________________________________________________\n",
      "Layer (type)                 Output Shape              Param #   \n",
      "=================================================================\n",
      "dense (Dense)                (None, 17)                187       \n",
      "_________________________________________________________________\n",
      "dense_1 (Dense)              (None, 13)                234       \n",
      "_________________________________________________________________\n",
      "dense_2 (Dense)              (None, 1)                 14        \n",
      "_________________________________________________________________\n",
      "dense_3 (Dense)              (None, 17)                34        \n",
      "_________________________________________________________________\n",
      "dense_4 (Dense)              (None, 13)                234       \n",
      "_________________________________________________________________\n",
      "dense_5 (Dense)              (None, 1)                 14        \n",
      "=================================================================\n",
      "Total params: 717\n",
      "Trainable params: 717\n",
      "Non-trainable params: 0\n",
      "_________________________________________________________________\n"
     ]
    }
   ],
   "source": [
    "from keras.models import Sequential\n",
    "from keras.layers import Dense\n",
    "\n",
    "model_NN.add(Dense(17, activation=\"linear\"))\n",
    "model_NN.add(Dense(13,activation=\"linear\"))\n",
    "model_NN.add(Dense(1, activation=\"linear\"))\n",
    "model_NN.summary()"
   ]
  },
  {
   "cell_type": "code",
   "execution_count": 70,
   "metadata": {},
   "outputs": [
    {
     "name": "stdout",
     "output_type": "stream",
     "text": [
      "Epoch 1/30\n",
      "5645/5645 [==============================] - 20s 800us/step - loss: 6.8146e-08 - accuracy: 0.4765 - val_loss: 2.3842e-07 - val_accuracy: 0.0000e+00\n",
      "Epoch 2/30\n",
      "5645/5645 [==============================] - 4s 734us/step - loss: 6.8204e-08 - accuracy: 0.4764 - val_loss: 2.3842e-07 - val_accuracy: 0.0000e+00\n",
      "Epoch 3/30\n",
      "5645/5645 [==============================] - 5s 897us/step - loss: 6.7946e-08 - accuracy: 0.4757 - val_loss: 2.3842e-07 - val_accuracy: 0.0000e+00\n",
      "Epoch 4/30\n",
      "5645/5645 [==============================] - 5s 897us/step - loss: 6.8484e-08 - accuracy: 0.4792 - val_loss: 2.3842e-07 - val_accuracy: 0.0000e+00\n",
      "Epoch 5/30\n",
      "5645/5645 [==============================] - 5s 892us/step - loss: 6.8224e-08 - accuracy: 0.4777 - val_loss: 2.3842e-07 - val_accuracy: 0.0000e+00\n",
      "Epoch 6/30\n",
      "5645/5645 [==============================] - 5s 894us/step - loss: 6.8269e-08 - accuracy: 0.4772 - val_loss: 2.3842e-07 - val_accuracy: 0.0000e+00\n",
      "Epoch 7/30\n",
      "5645/5645 [==============================] - 5s 890us/step - loss: 6.8199e-08 - accuracy: 0.4781 - val_loss: 2.3842e-07 - val_accuracy: 0.0000e+00\n",
      "Epoch 8/30\n",
      "5645/5645 [==============================] - 7s 1ms/step - loss: 6.8169e-08 - accuracy: 0.4759 - val_loss: 2.3842e-07 - val_accuracy: 0.0000e+00\n",
      "Epoch 9/30\n",
      "5645/5645 [==============================] - 7s 1ms/step - loss: 6.7923e-08 - accuracy: 0.4754 - val_loss: 2.3842e-07 - val_accuracy: 0.0000e+00\n",
      "Epoch 10/30\n",
      "5645/5645 [==============================] - 8s 1ms/step - loss: 6.8123e-08 - accuracy: 0.4761 - val_loss: 2.3842e-07 - val_accuracy: 0.0000e+00\n",
      "Epoch 11/30\n",
      "5645/5645 [==============================] - 7s 1ms/step - loss: 6.7869e-08 - accuracy: 0.4745 - val_loss: 2.3842e-07 - val_accuracy: 0.0000e+00\n",
      "Epoch 12/30\n",
      "5645/5645 [==============================] - 6s 1ms/step - loss: 6.8139e-08 - accuracy: 0.4766 - val_loss: 2.3842e-07 - val_accuracy: 0.0000e+00\n",
      "Epoch 13/30\n",
      "5645/5645 [==============================] - 6s 1ms/step - loss: 6.8107e-08 - accuracy: 0.4763 - val_loss: 2.3842e-07 - val_accuracy: 0.0000e+00\n",
      "Epoch 14/30\n",
      "5645/5645 [==============================] - 6s 1ms/step - loss: 6.7669e-08 - accuracy: 0.4747 - val_loss: 2.3842e-07 - val_accuracy: 0.0000e+00\n",
      "Epoch 15/30\n",
      "5645/5645 [==============================] - 6s 1ms/step - loss: 6.8244e-08 - accuracy: 0.4762 - val_loss: 2.3842e-07 - val_accuracy: 0.0000e+00\n",
      "Epoch 16/30\n",
      "5645/5645 [==============================] - 6s 1ms/step - loss: 6.8353e-08 - accuracy: 0.4769 - val_loss: 2.3842e-07 - val_accuracy: 0.0000e+00\n",
      "Epoch 17/30\n",
      "5645/5645 [==============================] - 7s 1ms/step - loss: 6.8349e-08 - accuracy: 0.4777 - val_loss: 2.3842e-07 - val_accuracy: 0.0000e+00\n",
      "Epoch 18/30\n",
      "5645/5645 [==============================] - 7s 1ms/step - loss: 6.8294e-08 - accuracy: 0.4781 - val_loss: 2.3842e-07 - val_accuracy: 0.0000e+00\n",
      "Epoch 19/30\n",
      "5645/5645 [==============================] - 6s 1ms/step - loss: 6.7870e-08 - accuracy: 0.4757 - val_loss: 2.3842e-07 - val_accuracy: 0.0000e+00\n",
      "Epoch 20/30\n",
      "5645/5645 [==============================] - 6s 1ms/step - loss: 6.8058e-08 - accuracy: 0.4763 - val_loss: 2.3842e-07 - val_accuracy: 0.0000e+00\n",
      "Epoch 21/30\n",
      "5645/5645 [==============================] - 5s 961us/step - loss: 6.8169e-08 - accuracy: 0.4769 - val_loss: 2.3842e-07 - val_accuracy: 0.0000e+00\n",
      "Epoch 22/30\n",
      "5645/5645 [==============================] - 6s 1ms/step - loss: 6.7967e-08 - accuracy: 0.4742 - val_loss: 2.3842e-07 - val_accuracy: 0.0000e+00\n",
      "Epoch 23/30\n",
      "5645/5645 [==============================] - 5s 973us/step - loss: 6.8262e-08 - accuracy: 0.4759 - val_loss: 2.3842e-07 - val_accuracy: 0.0000e+00\n",
      "Epoch 24/30\n",
      "5645/5645 [==============================] - 6s 1ms/step - loss: 6.8517e-08 - accuracy: 0.4782 - val_loss: 2.3842e-07 - val_accuracy: 0.0000e+00\n",
      "Epoch 25/30\n",
      "5645/5645 [==============================] - 6s 1ms/step - loss: 6.8161e-08 - accuracy: 0.4748 - val_loss: 2.3842e-07 - val_accuracy: 0.0000e+00\n",
      "Epoch 26/30\n",
      "5645/5645 [==============================] - 6s 1ms/step - loss: 6.7969e-08 - accuracy: 0.4754 - val_loss: 2.3842e-07 - val_accuracy: 0.0000e+00\n",
      "Epoch 27/30\n",
      "5645/5645 [==============================] - 6s 1ms/step - loss: 6.8073e-08 - accuracy: 0.4760 - val_loss: 2.3842e-07 - val_accuracy: 0.0000e+00\n",
      "Epoch 28/30\n",
      "5645/5645 [==============================] - 6s 1ms/step - loss: 6.8071e-08 - accuracy: 0.4760 - val_loss: 2.3842e-07 - val_accuracy: 0.0000e+00\n",
      "Epoch 29/30\n",
      "5645/5645 [==============================] - 6s 1ms/step - loss: 6.7996e-08 - accuracy: 0.4768 - val_loss: 2.3842e-07 - val_accuracy: 0.0000e+00\n",
      "Epoch 30/30\n",
      "5645/5645 [==============================] - 6s 1ms/step - loss: 6.8315e-08 - accuracy: 0.4760 - val_loss: 2.3842e-07 - val_accuracy: 0.0000e+00\n"
     ]
    },
    {
     "data": {
      "text/plain": [
       "<keras.callbacks.History at 0x2834f64c130>"
      ]
     },
     "execution_count": 70,
     "metadata": {},
     "output_type": "execute_result"
    }
   ],
   "source": [
    "model_NN.compile(optimizer='adam', loss='categorical_crossentropy',metrics=['accuracy'] )\n",
    "model_NN.fit(A_res, b_res,validation_split=0.3, epochs = 30)"
   ]
  },
  {
   "cell_type": "markdown",
   "metadata": {},
   "source": [
    "+ VALIDATION SET"
   ]
  },
  {
   "cell_type": "code",
   "execution_count": 72,
   "metadata": {},
   "outputs": [
    {
     "name": "stdout",
     "output_type": "stream",
     "text": [
      "443/443 [==============================] - 0s 592us/step - loss: 1.1954e-07 - accuracy: 0.9472\n"
     ]
    },
    {
     "data": {
      "text/plain": [
       "[1.1953737555359112e-07, 0.9472161531448364]"
      ]
     },
     "execution_count": 72,
     "metadata": {},
     "output_type": "execute_result"
    }
   ],
   "source": [
    "model_NN.evaluate(A_valid, b_valid)"
   ]
  },
  {
   "cell_type": "markdown",
   "metadata": {},
   "source": [
    "+ TEST DATA"
   ]
  },
  {
   "cell_type": "code",
   "execution_count": 73,
   "metadata": {},
   "outputs": [
    {
     "name": "stdout",
     "output_type": "stream",
     "text": [
      "443/443 [==============================] - 0s 568us/step - loss: 1.1904e-07 - accuracy: 0.9472\n"
     ]
    },
    {
     "data": {
      "text/plain": [
       "[1.1904106855809005e-07, 0.9472198486328125]"
      ]
     },
     "execution_count": 73,
     "metadata": {},
     "output_type": "execute_result"
    }
   ],
   "source": [
    "model_NN.evaluate(A_test, b_test)"
   ]
  },
  {
   "cell_type": "markdown",
   "metadata": {},
   "source": [
    "# All model Accuracy Scores"
   ]
  },
  {
   "cell_type": "code",
   "execution_count": 74,
   "metadata": {},
   "outputs": [
    {
     "name": "stdout",
     "output_type": "stream",
     "text": [
      "0.9532945223604128\n",
      "0.9782129311105231\n",
      "0.3786275028667196\n",
      "0.8869630413689689\n",
      "443/443 [==============================] - 0s 681us/step - loss: 1.1904e-07 - accuracy: 0.9472\n"
     ]
    },
    {
     "data": {
      "text/plain": [
       "[1.1904106855809005e-07, 0.9472198486328125]"
      ]
     },
     "execution_count": 74,
     "metadata": {},
     "output_type": "execute_result"
    }
   ],
   "source": [
    "#print(DECISION TREE)\n",
    "y_pred = model_dt.predict(A_test_1)\n",
    "print(accuracy_score(b_test_1, y_pred))\n",
    "\n",
    "#print(RANDOM FOREST)\n",
    "y_pred = model_rf.predict(A_test_1)\n",
    "print(accuracy_score(b_test_1, y_pred))\n",
    "\n",
    "#print(SUPPORT VECTOR CLASSIFIER)\n",
    "#y_pred = model_svc.predict(A_test_1)\n",
    "#print(accuracy_score(b_test_1, y_pred))\n",
    "\n",
    "#print(GAUSSIAN NAIVE BAYES)\n",
    "y_pred = model_nb.predict(A_test_1)\n",
    "print(accuracy_score(b_test_1, y_pred))\n",
    "\n",
    "#print(K NEAREST NEIGHBOUR)\n",
    "y_pred = model_knn.predict(A_test_1)\n",
    "print(accuracy_score(b_test_1, y_pred))\n",
    "\n",
    "#print(NEURAL NETWORK)\n",
    "model_NN.evaluate(A_test, b_test)\n"
   ]
  },
  {
   "cell_type": "markdown",
   "metadata": {},
   "source": [
    "### On Comparing all model algorithms accuracy \"Random Forest Classifier\" giving high accuracy with 99%, so now we can save the model"
   ]
  },
  {
   "cell_type": "markdown",
   "metadata": {},
   "source": [
    "# MODEL SAVING"
   ]
  },
  {
   "cell_type": "code",
   "execution_count": 75,
   "metadata": {},
   "outputs": [],
   "source": [
    "import pickle\n"
   ]
  },
  {
   "cell_type": "code",
   "execution_count": 76,
   "metadata": {},
   "outputs": [],
   "source": [
    "# saving the model \n",
    "pickle_out = open(\"randomforest.pkl\", mode = \"wb\") \n",
    "pickle.dump(model_rf, pickle_out) \n",
    "pickle_out.close()"
   ]
  },
  {
   "cell_type": "code",
   "execution_count": null,
   "metadata": {},
   "outputs": [],
   "source": []
  }
 ],
 "metadata": {
  "kernelspec": {
   "display_name": "Python 3",
   "language": "python",
   "name": "python3"
  },
  "language_info": {
   "codemirror_mode": {
    "name": "ipython",
    "version": 3
   },
   "file_extension": ".py",
   "mimetype": "text/x-python",
   "name": "python",
   "nbconvert_exporter": "python",
   "pygments_lexer": "ipython3",
   "version": "3.8.5"
  }
 },
 "nbformat": 4,
 "nbformat_minor": 4
}
